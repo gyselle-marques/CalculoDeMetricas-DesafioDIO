{
  "nbformat": 4,
  "nbformat_minor": 0,
  "metadata": {
    "colab": {
      "provenance": [],
      "gpuType": "V28",
      "authorship_tag": "ABX9TyPiUiL9Jnwu5ln7Mdqx1OOW",
      "include_colab_link": true
    },
    "kernelspec": {
      "name": "python3",
      "display_name": "Python 3"
    },
    "language_info": {
      "name": "python"
    },
    "accelerator": "TPU"
  },
  "cells": [
    {
      "cell_type": "markdown",
      "metadata": {
        "id": "view-in-github",
        "colab_type": "text"
      },
      "source": [
        "<a href=\"https://colab.research.google.com/github/gyselle-marques/CalculoDeMetricas-DesafioDIO/blob/main/avaliacao_de_resultado.ipynb\" target=\"_parent\"><img src=\"https://colab.research.google.com/assets/colab-badge.svg\" alt=\"Open In Colab\"/></a>"
      ]
    },
    {
      "cell_type": "code",
      "source": [
        "# Importando bibliotecas necessárias\n",
        "\n",
        "import numpy as np\n",
        "import itertools\n",
        "import sklearn\n",
        "\n",
        "import matplotlib\n",
        "import matplotlib.pyplot as plt\n",
        "\n",
        "# Importando módulos e funções específicas do Scikit-learn\n",
        "from sklearn.datasets import make_classification\n",
        "from sklearn.model_selection import train_test_split\n",
        "from sklearn.metrics import confusion_matrix\n",
        "\n",
        "# Instalando o XGBoost\n",
        "!pip install xgboost\n",
        "\n",
        "# Importando o XGBoost Classifier para treinamento\n",
        "from xgboost import XGBClassifier"
      ],
      "metadata": {
        "colab": {
          "base_uri": "https://localhost:8080/"
        },
        "id": "uBb_oBNLYKrZ",
        "outputId": "b20cd8ca-7996-4024-dc3e-7491fa3b1a8e"
      },
      "execution_count": null,
      "outputs": [
        {
          "output_type": "stream",
          "name": "stdout",
          "text": [
            "Collecting xgboost\n",
            "  Downloading xgboost-2.1.3-py3-none-manylinux_2_28_x86_64.whl.metadata (2.1 kB)\n",
            "Requirement already satisfied: numpy in /usr/local/lib/python3.11/dist-packages (from xgboost) (1.26.4)\n",
            "Collecting nvidia-nccl-cu12 (from xgboost)\n",
            "  Downloading nvidia_nccl_cu12-2.24.3-py3-none-manylinux2014_x86_64.manylinux_2_17_x86_64.whl.metadata (1.8 kB)\n",
            "Requirement already satisfied: scipy in /usr/local/lib/python3.11/dist-packages (from xgboost) (1.13.1)\n",
            "Downloading xgboost-2.1.3-py3-none-manylinux_2_28_x86_64.whl (153.9 MB)\n",
            "\u001b[2K   \u001b[90m━━━━━━━━━━━━━━━━━━━━━━━━━━━━━━━━━━━━━━━━\u001b[0m \u001b[32m153.9/153.9 MB\u001b[0m \u001b[31m7.0 MB/s\u001b[0m eta \u001b[36m0:00:00\u001b[0m\n",
            "\u001b[?25hDownloading nvidia_nccl_cu12-2.24.3-py3-none-manylinux2014_x86_64.manylinux_2_17_x86_64.whl (201.3 MB)\n",
            "\u001b[2K   \u001b[90m━━━━━━━━━━━━━━━━━━━━━━━━━━━━━━━━━━━━━━━━\u001b[0m \u001b[32m201.3/201.3 MB\u001b[0m \u001b[31m5.3 MB/s\u001b[0m eta \u001b[36m0:00:00\u001b[0m\n",
            "\u001b[?25hInstalling collected packages: nvidia-nccl-cu12, xgboost\n",
            "Successfully installed nvidia-nccl-cu12-2.24.3 xgboost-2.1.3\n"
          ]
        }
      ]
    },
    {
      "cell_type": "code",
      "source": [
        "# Generando um dataset sintético para realizar a avaliação de resultado\n",
        "X, y = make_classification(\n",
        "    n_samples=10000,\n",
        "    n_features=25,\n",
        "    n_informative=10,\n",
        "    n_redundant=0,\n",
        "    n_classes=5\n",
        ")\n",
        "\n",
        "# Definindo o nome das classes\n",
        "class_names = ['class-1', 'class-2', 'class-3', 'class-4', 'class-5']\n",
        "\n",
        "# Dividindo os dados em conjuntos de treinamento (67%) e teste (33%)\n",
        "X_train, X_test, y_train, y_test = train_test_split(\n",
        "    X, y,\n",
        "    test_size=0.33  # Proporção de dados usados ​​para teste\n",
        ")\n",
        "\n",
        "# Initializando o XGBoost Classifier\n",
        "clf = XGBClassifier()\n",
        "\n",
        "# Treinamento do Classifier\n",
        "clf.fit(X_train, y_train)\n",
        "\n",
        "# Fazendo previsões sobre os dados de teste\n",
        "y_pred = clf.predict(X_test)"
      ],
      "metadata": {
        "id": "K0A__truZg5o"
      },
      "execution_count": null,
      "outputs": []
    },
    {
      "cell_type": "code",
      "source": [
        "# Gera a matriz de confusão\n",
        "matrix = confusion_matrix(y_test, y_pred)\n",
        "\n",
        "plt.clf()\n",
        "\n",
        "plt.gca().xaxis.tick_top()\n",
        "plt.gca().xaxis.set_label_position('top')\n",
        "\n",
        "# Plota a matriz de confusão com um mapa de cores azul\n",
        "plt.imshow(matrix, interpolation='nearest', cmap=plt.cm.Blues)\n",
        "\n",
        "# Adiciona uma barra colorida para indicar a intensidade dos valores\n",
        "plt.colorbar()\n",
        "\n",
        "# Define o formato dos valores da matriz (formato integer)\n",
        "fmt = 'd'\n",
        "\n",
        "# Adiciona o número de previsões a cada célula da matriz\n",
        "thresh = matrix.max() / 2.  # Limite para decidir a cor do texto\n",
        "for i, j in itertools.product(range(matrix.shape[0]), range(matrix.shape[1])):\n",
        "    # Sobrepõe o valor em cada célula com a cor de texto apropriada\n",
        "    plt.text(j, i, format(matrix[i, j], fmt),\n",
        "             horizontalalignment=\"center\",\n",
        "             color=\"white\" if matrix[i, j] > thresh else \"black\")\n",
        "\n",
        "# Personalize marcas de escala e rótulos para os eixos x e y\n",
        "tick_marks = np.arange(len(class_names))\n",
        "plt.xticks(tick_marks, class_names, rotation=45)  # Gira os rótulos do eixo x para facilitar a leitura\n",
        "plt.yticks(tick_marks, class_names)\n",
        "\n",
        "# Ajusta o layout do gráfico para melhor espaçamento\n",
        "plt.tight_layout()\n",
        "\n",
        "# Adiciona rótulos de eixo\n",
        "plt.ylabel('True label', size=14)\n",
        "plt.xlabel('Predicted label', size=14)\n",
        "\n",
        "# Exibi a matriz de confusão\n",
        "plt.show()"
      ],
      "metadata": {
        "colab": {
          "base_uri": "https://localhost:8080/",
          "height": 507
        },
        "id": "bdLvjqfXanen",
        "outputId": "958e5bf1-83af-4db8-a870-f46b874e4edd"
      },
      "execution_count": null,
      "outputs": [
        {
          "output_type": "display_data",
          "data": {
            "text/plain": [
              "<Figure size 640x480 with 2 Axes>"
            ],
            "image/png": "[encoded data removed]"
          },
          "metadata": {}
        }
      ]
    },
    {
      "cell_type": "code",
      "source": [
        "# Obtêm os elementos da matriz de confusão para uma classe específica\n",
        "def elements(class_idx):\n",
        "    \"\"\"\n",
        "    Calculate VP, FN, FP, VN for a specific class in the existing confusion matrix.\n",
        "\n",
        "    Parameters:\n",
        "        class_idx (int): The index of the class.\n",
        "\n",
        "    Returns:\n",
        "        dict: A dictionary with VP, FN, FP, VN.\n",
        "    \"\"\"\n",
        "    # Verdadeiro Positivo (VP):\n",
        "    VP = matrix[class_idx, class_idx]\n",
        "\n",
        "    # Falso Negativo (FN):\n",
        "    FN = np.sum(matrix[class_idx, :]) - VP\n",
        "\n",
        "    # Falso Positivo (FP):\n",
        "    FP = np.sum(matrix[:, class_idx]) - VP  # Sum of the column minus VP\n",
        "\n",
        "    # Verdadeiro Negativo (VN):\n",
        "    VN = np.sum(matrix) - (VP + FN + FP)\n",
        "\n",
        "    # Retorna os elementos da matriz de confusão como um dicionário\n",
        "    return {'VP': VP, 'FN': FN, 'FP': FP, 'VN': VN}"
      ],
      "metadata": {
        "id": "pjVBI4d2c6JG"
      },
      "execution_count": null,
      "outputs": []
    },
    {
      "cell_type": "code",
      "source": [
        "results_class1 = elements(0)\n",
        "results_class2 = elements(1)\n",
        "results_class3 = elements(2)\n",
        "results_class4 = elements(3)\n",
        "results_class5 = elements(4)\n",
        "\n",
        "print(results_class1)\n",
        "print(results_class2)\n",
        "print(results_class3)\n",
        "print(results_class4)\n",
        "print(results_class5)"
      ],
      "metadata": {
        "colab": {
          "base_uri": "https://localhost:8080/"
        },
        "id": "z2knWZjEe4YP",
        "outputId": "ae4869ca-f684-4da5-94d5-fd600114177d"
      },
      "execution_count": null,
      "outputs": [
        {
          "output_type": "stream",
          "name": "stdout",
          "text": [
            "{'VP': 544, 'FN': 82, 'FP': 120, 'VN': 2554}\n",
            "{'VP': 490, 'FN': 143, 'FP': 133, 'VN': 2534}\n",
            "{'VP': 598, 'FN': 99, 'FP': 103, 'VN': 2500}\n",
            "{'VP': 587, 'FN': 107, 'FP': 76, 'VN': 2530}\n",
            "{'VP': 555, 'FN': 95, 'FP': 94, 'VN': 2556}\n"
          ]
        }
      ]
    },
    {
      "cell_type": "code",
      "source": [
        "# Função de acurácia: calcular a acurácia geral do modelo\n",
        "def accuracy(y_test, y_pred):\n",
        "    \"\"\"\n",
        "    Calculate the accuracy of the model.\n",
        "\n",
        "    Parameters:\n",
        "        y_test (array-like): The true labels.\n",
        "        y_pred (array-like): The predicted labels.\n",
        "\n",
        "    Returns:\n",
        "        float: The accuracy.\n",
        "    \"\"\"\n",
        "    # Previsões Corretas: Soma dos principais elementos diagonais da matriz de confusão\n",
        "    correct_predictions = np.trace(matrix)  # Verdadeiros Positivos para todas as classes combinadas\n",
        "\n",
        "    # Previsões totais: soma de todos os elementos da matriz de confusão\n",
        "    total_predictions = np.sum(matrix)  # Número total de instâncias\n",
        "\n",
        "    # Calcule a acurácia como a proporção de previsões corretas\n",
        "    acc = correct_predictions / total_predictions\n",
        "\n",
        "    return acc  # Retorne a precisão como um valor decimal\n",
        "\n",
        "# Imprime o valor bruto da acurácia\n",
        "print(accuracy(y_test, y_pred))\n",
        "\n",
        "# Imprime a acurácia como uma porcentagem\n",
        "print(f\"accuracy: {round(accuracy(y_test, y_pred)*100)}%\")"
      ],
      "metadata": {
        "colab": {
          "base_uri": "https://localhost:8080/"
        },
        "id": "3ivr0G2pfAii",
        "outputId": "537a5d2a-0cf8-4d95-890f-6235dd23e389"
      },
      "execution_count": null,
      "outputs": [
        {
          "output_type": "stream",
          "name": "stdout",
          "text": [
            "0.8406060606060606\n",
            "accuracy: 84%\n"
          ]
        }
      ]
    },
    {
      "cell_type": "code",
      "source": [
        "# Função de precisão\n",
        "def precision(class_idx):\n",
        "    \"\"\"\n",
        "    Calculate the precision for a specific class.\n",
        "\n",
        "    Parameters:\n",
        "        class_idx (int): The index of the class.\n",
        "\n",
        "    Returns:\n",
        "        float: The precision.\n",
        "    \"\"\"\n",
        "    # Obtêm os elementos VP, FP, etc. da função elements()\n",
        "    metrics = elements(class_idx)\n",
        "\n",
        "    # Acessa e extrai VP e FP do dicionário retornado da função elements()\n",
        "    VP = metrics['VP']\n",
        "    FP = metrics['FP']\n",
        "\n",
        "    pr = VP/(VP+FP)\n",
        "    return pr\n",
        "\n",
        "print(f\"Precision: {round(precision(2)*100)}%\")"
      ],
      "metadata": {
        "colab": {
          "base_uri": "https://localhost:8080/"
        },
        "id": "gAci8_kJgNoW",
        "outputId": "ceddff60-6c87-4f59-b2b8-5d9de0160fee"
      },
      "execution_count": null,
      "outputs": [
        {
          "output_type": "stream",
          "name": "stdout",
          "text": [
            "Precision: 85%\n"
          ]
        }
      ]
    },
    {
      "cell_type": "code",
      "source": [
        "# Função de sensibilidade (recall)\n",
        "def recall(class_idx):\n",
        "    \"\"\"\n",
        "    Calculate the recall for a specific class.\n",
        "\n",
        "    Parameters:\n",
        "        class_idx (int): The index of the class.\n",
        "\n",
        "    Returns:\n",
        "        float: The recall.\n",
        "    \"\"\"\n",
        "    metrics = elements(class_idx)\n",
        "\n",
        "    VP = metrics['VP']\n",
        "    FN = metrics['FN']\n",
        "\n",
        "    # Calcula o recall\n",
        "    re = VP / (VP+FN)\n",
        "    return re\n",
        "\n",
        "print(f\"Recall: {round(recall(2)*100)}%\")"
      ],
      "metadata": {
        "colab": {
          "base_uri": "https://localhost:8080/"
        },
        "id": "AmK8II5JgyG0",
        "outputId": "028eb3a2-938a-4c6c-90fd-e2f1ca5d6e50"
      },
      "execution_count": null,
      "outputs": [
        {
          "output_type": "stream",
          "name": "stdout",
          "text": [
            "Recall: 86%\n"
          ]
        }
      ]
    },
    {
      "cell_type": "code",
      "source": [
        "# Função de especificidade\n",
        "def specificity(class_idx):\n",
        "    \"\"\"\n",
        "    Calculate the specificity for a specific class.\n",
        "\n",
        "    Parameters:\n",
        "        class_idx (int): The index of the class.\n",
        "\n",
        "    Returns:\n",
        "        float: The specificity.\n",
        "    \"\"\"\n",
        "    metrics = elements(class_idx)\n",
        "\n",
        "    FP = metrics['FP']\n",
        "    VN = metrics['VN']\n",
        "\n",
        "    # Calcula a especificidade\n",
        "    spec = VN / (FP + VN)\n",
        "    return spec\n",
        "\n",
        "print(f\"Specificity: {round(specificity(2)*100)}%\")"
      ],
      "metadata": {
        "colab": {
          "base_uri": "https://localhost:8080/"
        },
        "id": "mu2iO7qVhG9D",
        "outputId": "2312c4ea-719a-45f7-ef5d-48c23fbd882e"
      },
      "execution_count": null,
      "outputs": [
        {
          "output_type": "stream",
          "name": "stdout",
          "text": [
            "Specificity: 96%\n"
          ]
        }
      ]
    },
    {
      "cell_type": "code",
      "source": [
        "# Função F-Score\n",
        "# 2*(P*R)/(P+R)\n",
        "def f_score(class_idx):\n",
        "    \"\"\"\n",
        "    Calculate the F-score for a specific class.\n",
        "\n",
        "    Parameters:\n",
        "        class_idx (int): The index of the class.\n",
        "\n",
        "    Returns:\n",
        "        float: The F-score.\n",
        "    \"\"\"\n",
        "    score = 2 * ((precision(class_idx) * recall(class_idx)) / (precision(class_idx) + recall(class_idx)))\n",
        "    return score\n",
        "\n",
        "print(f\"F-Score: {round(f_score(2)*100)}%\")"
      ],
      "metadata": {
        "colab": {
          "base_uri": "https://localhost:8080/"
        },
        "id": "xwd0Aiswhd_h",
        "outputId": "872b5714-ee01-4ba8-c056-353fd040f97f"
      },
      "execution_count": null,
      "outputs": [
        {
          "output_type": "stream",
          "name": "stdout",
          "text": [
            "F-Score: 86%\n"
          ]
        }
      ]
    },
    {
      "cell_type": "code",
      "source": [
        "# Compara os resultados com o sklearn\n",
        "from sklearn.metrics import classification_report\n",
        "print(classification_report(y_test, y_pred, target_names=class_names))"
      ],
      "metadata": {
        "colab": {
          "base_uri": "https://localhost:8080/"
        },
        "id": "4089dGB6hvQm",
        "outputId": "1456d04a-e736-4ce3-c79a-4c999678fb50"
      },
      "execution_count": null,
      "outputs": [
        {
          "output_type": "stream",
          "name": "stdout",
          "text": [
            "              precision    recall  f1-score   support\n",
            "\n",
            "     class-1       0.82      0.87      0.84       626\n",
            "     class-2       0.79      0.77      0.78       633\n",
            "     class-3       0.85      0.86      0.86       697\n",
            "     class-4       0.89      0.85      0.87       694\n",
            "     class-5       0.86      0.85      0.85       650\n",
            "\n",
            "    accuracy                           0.84      3300\n",
            "   macro avg       0.84      0.84      0.84      3300\n",
            "weighted avg       0.84      0.84      0.84      3300\n",
            "\n"
          ]
        }
      ]
    },
    {
      "cell_type": "code",
      "source": [
        "print(f\"accuracy: \\n {accuracy(y_test,y_pred):.2f}\")\n",
        "print(f\"precision: \\n class-1: {precision(0):.2f} \\n class-2: {precision(1):.2f}\\n class-3: {precision(2):.2f}\\n class-4: {precision(3):.2f}\\n class-5: {precision(4):.2f}\")\n",
        "print(f\"recall:\\n class-1: {recall(0):.2f}\\n class-2: {recall(1):.2f}\\n class-3: {recall(2):.2f}\\n class-4: {recall(3):.2f} \\n class-5: {recall(4):.2f}\")\n",
        "print(f\"specificity: \\n class-1: {specificity(0):.2f}\\n class-2: {specificity(1):.2f}\\n class-3: {specificity(2):.2f}\\n class-4: {specificity(3):.2f} \\n class-5: {specificity(4):.2f}\")\n",
        "print(f\"f_score: \\n class-1: {f_score(0):.2f}\\n class-2: {f_score(1):.2f}\\n class-3: {f_score(2):.2f}\\n class-4: {f_score(3):.2f} \\n class-5: {f_score(4):.2f}\")"
      ],
      "metadata": {
        "colab": {
          "base_uri": "https://localhost:8080/"
        },
        "id": "J7yCZ2Zgh7Mc",
        "outputId": "feeefa44-30b9-4c9a-baa7-cfdcf08ad8a9"
      },
      "execution_count": null,
      "outputs": [
        {
          "output_type": "stream",
          "name": "stdout",
          "text": [
            "accuracy: \n",
            " 0.84\n",
            "precision: \n",
            " class-1: 0.82 \n",
            " class-2: 0.79\n",
            " class-3: 0.85\n",
            " class-4: 0.89\n",
            " class-5: 0.86\n",
            "recall:\n",
            " class-1: 0.87\n",
            " class-2: 0.77\n",
            " class-3: 0.86\n",
            " class-4: 0.85 \n",
            " class-5: 0.85\n",
            "specificity: \n",
            " class-1: 0.96\n",
            " class-2: 0.95\n",
            " class-3: 0.96\n",
            " class-4: 0.97 \n",
            " class-5: 0.96\n",
            "f_score: \n",
            " class-1: 0.84\n",
            " class-2: 0.78\n",
            " class-3: 0.86\n",
            " class-4: 0.87 \n",
            " class-5: 0.85\n"
          ]
        }
      ]
    },
    {
      "cell_type": "code",
      "source": [
        "# Calcula métricas manuais para cada classe usando funções personalizadas\n",
        "manual_data = {\n",
        "    'Precision': [precision(0), precision(1), precision(2), precision(3), precision(4)],\n",
        "    'Recall': [recall(0), recall(1), recall(2), recall(3), recall(4)],\n",
        "    'F1-Score': [f_score(0), f_score(1), f_score(2), f_score(3), f_score(4)],\n",
        "}\n",
        "\n",
        "# Importa funções necessárias do sklearn.metrics\n",
        "from sklearn.metrics import precision_score, recall_score, f1_score\n",
        "\n",
        "# Calcula métricas para cada classe usando funções integradas do sklearn\n",
        "sklearn_data = {\n",
        "    'Precision': precision_score(y_test, y_pred, average=None),\n",
        "    'Recall': recall_score(y_test, y_pred, average=None),\n",
        "    'F1-Score': f1_score(y_test, y_pred, average=None),\n",
        "}\n",
        "\n",
        "# Importa a biblioteca do pandas\n",
        "import pandas as pd\n",
        "\n",
        "# Cria um DataFrame para comparar métricas manuais e sklearn para todas as classes\n",
        "comparison_df = pd.DataFrame({\n",
        "    'Class': ['class-1', 'class-2', 'class-3', 'class-4', 'class-5'],\n",
        "    'Manual Precision': manual_data['Precision'],\n",
        "    'Sklearn Precision': sklearn_data['Precision'],\n",
        "    'Manual Recall': manual_data['Recall'],\n",
        "    'Sklearn Recall': sklearn_data['Recall'],\n",
        "    'Manual F1-Score': manual_data['F1-Score'],\n",
        "    'Sklearn F1-Score': sklearn_data['F1-Score'],\n",
        "})\n",
        "\n",
        "\n",
        "print(comparison_df)"
      ],
      "metadata": {
        "colab": {
          "base_uri": "https://localhost:8080/"
        },
        "id": "fyvL2UZKiCyn",
        "outputId": "34df7604-8205-432a-eb1d-9849d0cbd753"
      },
      "execution_count": null,
      "outputs": [
        {
          "output_type": "stream",
          "name": "stdout",
          "text": [
            "     Class  Manual Precision  Sklearn Precision  Manual Recall  \\\n",
            "0  class-1          0.819277           0.819277       0.869010   \n",
            "1  class-2          0.786517           0.786517       0.774092   \n",
            "2  class-3          0.853067           0.853067       0.857963   \n",
            "3  class-4          0.885370           0.885370       0.845821   \n",
            "4  class-5          0.855162           0.855162       0.853846   \n",
            "\n",
            "   Sklearn Recall  Manual F1-Score  Sklearn F1-Score  \n",
            "0        0.869010         0.843411          0.843411  \n",
            "1        0.774092         0.780255          0.780255  \n",
            "2        0.857963         0.855508          0.855508  \n",
            "3        0.845821         0.865144          0.865144  \n",
            "4        0.853846         0.854503          0.854503  \n"
          ]
        }
      ]
    },
    {
      "cell_type": "code",
      "source": [
        "# Configurar dados do gráfico\n",
        "classes = comparison_df['Class']\n",
        "x = np.arange(len(classes))  # Class positions\n",
        "bar_width = 0.35  # Bar width\n",
        "\n",
        "# Criar plotagem\n",
        "fig, ax = plt.subplots(3, 1, figsize=(5, 6))\n",
        "\n",
        "# Precisão\n",
        "ax[0].bar(x - bar_width / 2, comparison_df['Manual Precision'], bar_width, label='Manual Precision', color='blue')\n",
        "ax[0].bar(x + bar_width / 2, comparison_df['Sklearn Precision'], bar_width, label='Sklearn Precision', color='orange')\n",
        "ax[0].set_title('Precision')\n",
        "ax[0].set_xticks(x)\n",
        "ax[0].set_xticklabels(classes)\n",
        "ax[0].set_ylim(0, 1)\n",
        "ax[0].legend()\n",
        "\n",
        "# Sensibilidade/Recall\n",
        "ax[1].bar(x - bar_width / 2, comparison_df['Manual Recall'], bar_width, label='Manual Recall', color='green')\n",
        "ax[1].bar(x + bar_width / 2, comparison_df['Sklearn Recall'], bar_width, label='Sklearn Recall', color='red')\n",
        "ax[1].set_title('Recall')\n",
        "ax[1].set_xticks(x)\n",
        "ax[1].set_xticklabels(classes)\n",
        "ax[1].set_ylim(0, 1)\n",
        "ax[1].legend()\n",
        "\n",
        "# F1-Score\n",
        "ax[2].bar(x - bar_width / 2, comparison_df['Manual F1-Score'], bar_width, label='Manual F1-Score', color='purple')\n",
        "ax[2].bar(x + bar_width / 2, comparison_df['Sklearn F1-Score'], bar_width, label='Sklearn F1-Score', color='pink')\n",
        "ax[2].set_title('F1-Score')\n",
        "ax[2].set_xticks(x)\n",
        "ax[2].set_xticklabels(classes)\n",
        "ax[2].set_ylim(0, 1)\n",
        "ax[2].legend()\n",
        "\n",
        "plt.tight_layout()\n",
        "plt.show()\n"
      ],
      "metadata": {
        "colab": {
          "base_uri": "https://localhost:8080/",
          "height": 607
        },
        "id": "Z1dwSZ9kjZ90",
        "outputId": "eaac22a3-87c5-4d22-bf87-cebf3c69eb0a"
      },
      "execution_count": null,
      "outputs": [
        {
          "output_type": "display_data",
          "data": {
            "text/plain": [
              "<Figure size 500x600 with 3 Axes>"
            ],
            "image/png": "[encoded data removed]"
          },
          "metadata": {}
        }
      ]
    }
  ]
}